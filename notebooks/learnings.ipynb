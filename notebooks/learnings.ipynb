{
 "cells": [
  {
   "cell_type": "markdown",
   "id": "72a48c93",
   "metadata": {},
   "source": [
    "# Quantitative Options Pricing Toolkit — Learning Journal\n",
    "\n",
    "## 1. Project Overview\n",
    "\n",
    "This notebook summarizes key learnings while developing the options pricing toolkit, covering:\n",
    "\n",
    "- Monte Carlo pricing implementation and variance reduction\n",
    "- Black-Scholes formula validation\n",
    "- Volatility surface modeling (SVR, MLP, XGBoost)\n",
    "- Greeks calculation and challenges\n",
    "- Risk analysis techniques (stress testing, model risk)\n",
    "- Streamlit UI exploration\n",
    "\n",
    "---\n",
    "\n",
    "## 2. Monte Carlo Pricing\n",
    "\n",
    "### Goals\n",
    "\n",
    "- Implement GBM simulation with antithetic variates\n",
    "- Validate against Black-Scholes closed-form\n",
    "- Analyze convergence and variance reduction effects\n",
    "\n",
    "### Code Snippet\n",
    "\n",
    "```python\n",
    "# Monte Carlo pricing function call example\n",
    "price_mc = pricer.price(S=100, K=100, T=1, r=0.05, sigma=0.2, option_type='call')\n",
    "print(f\"Monte Carlo price: {price_mc:.4f}\")\n"
   ]
  },
  {
   "cell_type": "markdown",
   "id": "9f477b52",
   "metadata": {},
   "source": [
    "### monte_carlo.py"
   ]
  },
  {
   "cell_type": "markdown",
   "id": "91dab412",
   "metadata": {},
   "source": [
    "Challenges Faced During Monte Carlo Implementation:\n",
    "- When implementing the Monte Carlo simulation, I encountered several challenges, including:\n",
    "\n",
    "- Handling the zero volatility case: Initially, the code failed when sigma = 0, resulting in incorrect pricing. I solved this by adding a special case to compute deterministic prices directly.\n",
    "\n",
    "- Variance reduction effectiveness: While using antithetic variates, tuning the number of simulations to balance computation time and accuracy required multiple experiments.\n",
    "\n",
    "- Numerical stability: For very large time steps or volatility, simulated paths sometimes produced overflow errors due to exponentiation of large log-price increments. Adding input validation and limiting parameter ranges helped mitigate this.\n",
    "\n",
    "- Performance optimization: Simulating hundreds of thousands of paths took noticeable time. Vectorizing computations with NumPy improved speed, but there is still room for further optimization (e.g., using Numba or multiprocessing)."
   ]
  },
  {
   "cell_type": "markdown",
   "id": "691e6efb",
   "metadata": {},
   "source": []
  }
 ],
 "metadata": {
  "language_info": {
   "name": "python"
  }
 },
 "nbformat": 4,
 "nbformat_minor": 5
}
