{
 "cells": [
  {
   "cell_type": "markdown",
   "id": "a45676ba",
   "metadata": {},
   "source": [
    "# Binomial Tree Pricing for American Options\n",
    "\n",
    "This notebook demonstrates how the binomial tree model prices American options, allowing for early exercise at each node. We'll cover:\n",
    "- How the binomial tree works\n",
    "- Implementation for American call and put options\n",
    "- Visualization of option value across the tree\n"
   ]
  },
  {
   "cell_type": "markdown",
   "id": "6bb34bff",
   "metadata": {},
   "source": [
    "## How the Binomial Tree Works\n",
    "\n",
    "- **Underlying asset price** moves up or down at each time step.\n",
    "- In the tree:\n",
    "    - Up factor: $u = e^{\\sigma \\sqrt{\\Delta t}}$\n",
    "    - Down factor: $d = 1/u$\n",
    "    - Risk-neutral probability:\n",
    "      \\[\n",
    "      p = \\frac{e^{(r - q)\\Delta t} - d}{u - d}\n",
    "      \\]\n",
    "    - Early exercise is possible at every node for American options.\n",
    "\n",
    "We'll implement this for an American put option.\n"
   ]
  },
  {
   "cell_type": "code",
   "execution_count": null,
   "id": "44642339",
   "metadata": {},
   "outputs": [],
   "source": [
    "import numpy as np\n",
    "import matplotlib.pyplot as plt\n",
    "\n",
    "def american_option_binomial(S, K, T, r, sigma, q, N, option_type='put'):\n",
    "    \"\"\"\n",
    "    Price an American option using the binomial tree.\n",
    "\n",
    "    Parameters:\n",
    "        S : float\n",
    "            Initial stock price\n",
    "        K : float\n",
    "            Strike price\n",
    "        T : float\n",
    "            Time to maturity (years)\n",
    "        r : float\n",
    "            Risk-free rate\n",
    "        sigma : float\n",
    "            Volatility\n",
    "        q : float\n",
    "            Dividend yield\n",
    "        N : int\n",
    "            Number of steps\n",
    "        option_type : str\n",
    "            'call' or 'put'\n",
    "    \n",
    "    Returns:\n",
    "        float\n",
    "            Option price\n",
    "    \"\"\"\n",
    "    dt = T / N\n",
    "    u = np.exp(sigma * np.sqrt(dt))\n",
    "    d = 1 / u\n",
    "    p = (np.exp((r - q) * dt) - d) / (u - d)\n",
    "    discount = np.exp(-r * dt)\n",
    "\n",
    "    # initialize asset prices at maturity\n",
    "    asset_prices = np.array([S * (u**j) * (d**(N-j)) for j in range(N+1)])\n",
    "    \n",
    "    # option values at maturity\n",
    "    if option_type == 'call':\n",
    "        option_values = np.maximum(asset_prices - K, 0)\n",
    "    else:\n",
    "        option_values = np.maximum(K - asset_prices, 0)\n",
    "\n",
    "    # backward induction\n",
    "    for i in range(N-1, -1, -1):\n",
    "        asset_prices = asset_prices[:i+1] / u\n",
    "        option_values = (p * option_values[1:] + (1-p) * option_values[:-1]) * discount\n",
    "\n",
    "        # check for early exercise\n",
    "        if option_type == 'call':\n",
    "            exercise = np.maximum(asset_prices - K, 0)\n",
    "        else:\n",
    "            exercise = np.maximum(K - asset_prices, 0)\n",
    "        option_values = np.maximum(option_values, exercise)\n",
    "\n",
    "    return option_values[0]\n",
    "\n",
    "# Example parameters\n",
    "S = 100        # initial price\n",
    "K = 100        # strike\n",
    "T = 1          # maturity (1 year)\n",
    "r = 0.05       # risk-free rate\n",
    "sigma = 0.2    # volatility\n",
    "q = 0.0        # dividend yield\n",
    "N = 50         # tree steps\n",
    "\n",
    "price_put = american_option_binomial(S, K, T, r, sigma, q, N, option_type='put')\n",
    "price_call = american_option_binomial(S, K, T, r, sigma, q, N, option_type='call')\n",
    "\n",
    "print(f\"American Put Option Price: {price_put:.4f}\")\n",
    "print(f\"American Call Option Price: {price_call:.4f}\")\n"
   ]
  },
  {
   "cell_type": "markdown",
   "id": "d8f4a23c",
   "metadata": {},
   "source": [
    "## Visualization of the Asset Price Tree\n",
    "\n",
    "Let's visualize the possible paths of the underlying asset price.\n"
   ]
  },
  {
   "cell_type": "code",
   "execution_count": 1,
   "id": "b082f501",
   "metadata": {},
   "outputs": [
    {
     "ename": "NameError",
     "evalue": "name 'T' is not defined",
     "output_type": "error",
     "traceback": [
      "\u001b[31m---------------------------------------------------------------------------\u001b[39m",
      "\u001b[31mNameError\u001b[39m                                 Traceback (most recent call last)",
      "\u001b[36mCell\u001b[39m\u001b[36m \u001b[39m\u001b[32mIn[1]\u001b[39m\u001b[32m, line 29\u001b[39m\n\u001b[32m     26\u001b[39m     plt.show()\n\u001b[32m     28\u001b[39m \u001b[38;5;66;03m# Plot example tree\u001b[39;00m\n\u001b[32m---> \u001b[39m\u001b[32m29\u001b[39m dt = \u001b[43mT\u001b[49m / N\n\u001b[32m     30\u001b[39m u = np.exp(sigma * np.sqrt(dt))\n\u001b[32m     31\u001b[39m d = \u001b[32m1\u001b[39m / u\n",
      "\u001b[31mNameError\u001b[39m: name 'T' is not defined"
     ]
    }
   ],
   "source": [
    "import matplotlib.pyplot as plt\n",
    "import numpy as np\n",
    "\n",
    "def plot_binomial_tree(S, u, d, N):\n",
    "    \"\"\"\n",
    "    Plot the asset price tree.\n",
    "\n",
    "    Parameters:\n",
    "        S : float\n",
    "            Initial asset price\n",
    "        u : float\n",
    "            Up factor\n",
    "        d : float\n",
    "            Down factor\n",
    "        N : int\n",
    "            Steps\n",
    "    \"\"\"\n",
    "    fig, ax = plt.subplots(figsize=(8, 5))\n",
    "    for j in range(N+1):\n",
    "        prices = [S * (u**k) * (d**(j-k)) for k in range(j+1)]\n",
    "        x_coords = np.full_like(prices, j)\n",
    "        ax.scatter(x_coords, prices, color='blue')\n",
    "    ax.set_title(\"Binomial Tree - Asset Prices\")\n",
    "    ax.set_xlabel(\"Step\")\n",
    "    ax.set_ylabel(\"Price\")\n",
    "    plt.show()\n",
    "\n",
    "# Plot example tree\n",
    "dt = T / N\n",
    "u = np.exp(sigma * np.sqrt(dt))\n",
    "d = 1 / u\n",
    "\n",
    "plot_binomial_tree(S, u, d, N=5)\n"
   ]
  },
  {
   "cell_type": "markdown",
   "id": "9dd0a1fa",
   "metadata": {},
   "source": [
    "## Conclusion\n",
    "- The binomial tree is a powerful and known method for pricing American options.\n",
    "- It models early exercise by checking the intrinsic value at each node.\n",
    "- Increasing the number of steps improves accuracy, converging toward theoretical values.\n",
    "\n",
    "This concludes our example on American options pricing with the binomial tree!\n"
   ]
  }
 ],
 "metadata": {
  "kernelspec": {
   "display_name": "Python 3",
   "language": "python",
   "name": "python3"
  },
  "language_info": {
   "codemirror_mode": {
    "name": "ipython",
    "version": 3
   },
   "file_extension": ".py",
   "mimetype": "text/x-python",
   "name": "python",
   "nbconvert_exporter": "python",
   "pygments_lexer": "ipython3",
   "version": "3.11.9"
  }
 },
 "nbformat": 4,
 "nbformat_minor": 5
}
